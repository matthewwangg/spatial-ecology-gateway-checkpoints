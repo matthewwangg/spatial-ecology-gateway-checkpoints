{
 "cells": [
  {
   "cell_type": "code",
   "execution_count": null,
   "id": "b67265aa",
   "metadata": {},
   "outputs": [],
   "source": [
    "# Load required libraries\n",
    "library(ggplot2)\n",
    "library(gganimate)"
   ]
  },
  {
   "cell_type": "code",
   "execution_count": null,
   "id": "124b22d5",
   "metadata": {},
   "outputs": [],
   "source": [
    "secure_filename <- Sys.getenv(\"DATASET_CSV_1\")"
   ]
  },
  {
   "cell_type": "code",
   "execution_count": null,
   "id": "72dad599",
   "metadata": {
    "scrolled": true
   },
   "outputs": [],
   "source": [
    "# Read data from the CSV file\n",
    "data <- read.csv(secure_filename)\n",
    "\n",
    "# Ensure the timestamp column is in the correct format\n",
    "data$timestamp <- as.POSIXct(data$timestamp, format = \"%Y-%m-%d %H:%M:%S\")"
   ]
  },
  {
   "cell_type": "code",
   "execution_count": null,
   "id": "7ae438b4",
   "metadata": {},
   "outputs": [],
   "source": [
    "# Sort the data by timestamp\n",
    "data <- data[order(data$timestamp), ]\n",
    "\n",
    "# Subset the data to the first 100 rows\n",
    "data_subset <- data[1:100, ]"
   ]
  },
  {
   "cell_type": "code",
   "execution_count": null,
   "id": "5168d459",
   "metadata": {},
   "outputs": [],
   "source": [
    "# Create ggplot object for the static plot\n",
    "p <- ggplot(data_subset, aes(x = location.long, y = location.lat)) +\n",
    "  geom_line(aes(frame = timestamp, color = timestamp)) +\n",
    "  labs(title = \"3D Path Animation\", x = \"Longitude\", y = \"Latitude\") +\n",
    "  transition_time(timestamp) +\n",
    "  theme_minimal()"
   ]
  },
  {
   "cell_type": "code",
   "execution_count": null,
   "id": "6caa1d2d",
   "metadata": {},
   "outputs": [],
   "source": [
    "# Save the animation as GIF using gifski renderer\n",
    "gganimate::anim_save(\"animation2.gif\", animate(p, nframes = 10000, renderer = gifski_renderer()))"
   ]
  }
 ],
 "metadata": {
  "kernelspec": {
   "display_name": "R",
   "language": "R",
   "name": "ir"
  },
  "language_info": {
   "codemirror_mode": "r",
   "file_extension": ".r",
   "mimetype": "text/x-r-source",
   "name": "R",
   "pygments_lexer": "r",
   "version": "4.3.2"
  }
 },
 "nbformat": 4,
 "nbformat_minor": 5
}
