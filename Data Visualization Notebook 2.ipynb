{
 "cells": [
  {
   "cell_type": "code",
   "execution_count": null,
   "id": "0fa889e7",
   "metadata": {},
   "outputs": [],
   "source": [
    "# Load necessary packages\n",
    "library(ggplot2)\n",
    "library(gganimate)\n",
    "library(gifski)\n",
    "library(leaflet)"
   ]
  },
  {
   "cell_type": "code",
   "execution_count": null,
   "id": "fa99d20f",
   "metadata": {},
   "outputs": [],
   "source": [
    "# Attempt to load the gifski package\n",
    "if (!require(\"gifski\", quietly = TRUE)) {\n",
    "  message(\"The gifski package is not installed.\")\n",
    "} else {\n",
    "  message(\"The gifski package is installed.\")\n",
    "}"
   ]
  },
  {
   "cell_type": "code",
   "execution_count": null,
   "id": "bdfe6ec1",
   "metadata": {},
   "outputs": [],
   "source": [
    "secure_filename <- Sys.getenv(\"DATASET_TXT_1\")"
   ]
  },
  {
   "cell_type": "code",
   "execution_count": null,
   "id": "25a8a183",
   "metadata": {},
   "outputs": [],
   "source": [
    "# Read data from the text file\n",
    "data <- read.table(secure_filename, header = TRUE)\n",
    "\n",
    "# Create initial plot\n",
    "p <- ggplot(data, aes(x, y)) +\n",
    "  geom_point() +\n",
    "  transition_time(time) +\n",
    "  labs(title = 'Time: {frame_time}')\n",
    "\n",
    "# Save animation as GIF using gifski renderer\n",
    "gganimate::anim_save(\"animation1.gif\", animate(p, nframes = 10000, renderer = gifski_renderer()))\n"
   ]
  }
 ],
 "metadata": {
  "kernelspec": {
   "display_name": "R",
   "language": "R",
   "name": "ir"
  },
  "language_info": {
   "codemirror_mode": "r",
   "file_extension": ".r",
   "mimetype": "text/x-r-source",
   "name": "R",
   "pygments_lexer": "r",
   "version": "4.3.2"
  }
 },
 "nbformat": 4,
 "nbformat_minor": 5
}
