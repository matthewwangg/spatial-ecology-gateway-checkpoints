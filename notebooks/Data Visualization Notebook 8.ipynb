{
 "cells": [
  {
   "cell_type": "code",
   "execution_count": null,
   "id": "546aae52",
   "metadata": {},
   "outputs": [],
   "source": [
    "# Install necessary libraries\n",
    "library(plotly)"
   ]
  },
  {
   "cell_type": "code",
   "execution_count": null,
   "id": "1dea400a",
   "metadata": {},
   "outputs": [],
   "source": [
    "secure_filename <- Sys.getenv(\"DATASET_CSV_2\")"
   ]
  },
  {
   "cell_type": "code",
   "execution_count": null,
   "id": "629ea9b2",
   "metadata": {},
   "outputs": [],
   "source": [
    "data <- read.csv(secure_filename)"
   ]
  },
  {
   "cell_type": "code",
   "execution_count": null,
   "id": "245cad51",
   "metadata": {},
   "outputs": [],
   "source": [
    "n <- 500  \n",
    "data <- data[1:n, ]"
   ]
  },
  {
   "cell_type": "code",
   "execution_count": null,
   "id": "d44eb87a",
   "metadata": {},
   "outputs": [],
   "source": [
    "# Specify which columns to use\n",
    "x_col <- \"location.long\" \n",
    "y_col <- \"location.lat\" \n",
    "z_col <- \"height.above.msl\"  \n",
    "time_col <- \"timestamp\" "
   ]
  },
  {
   "cell_type": "code",
   "execution_count": null,
   "id": "f26f1a05",
   "metadata": {},
   "outputs": [],
   "source": [
    "# Create an animated 3D plot\n",
    "p <- plot_ly(data, \n",
    "             x = as.formula(paste0(\"~`\", x_col, \"`\")), \n",
    "             y = as.formula(paste0(\"~`\", y_col, \"`\")), \n",
    "             z = as.formula(paste0(\"~`\", z_col, \"`\")), \n",
    "             frame = as.formula(paste0(\"~`\", time_col, \"`\")), \n",
    "             type = 'scatter3d', mode = 'markers',\n",
    "             marker = list(size = 5, color = as.formula(paste0(\"~`\", time_col, \"`\")), colorscale = 'Viridis', showscale = FALSE)) %>%\n",
    "  layout(\n",
    "    scene = list(\n",
    "      xaxis = list(title = 'X', range = range(data[[x_col]])),\n",
    "      yaxis = list(title = 'Y', range = range(data[[y_col]])),\n",
    "      zaxis = list(title = 'Z', range = range(data[[z_col]]))\n",
    "    )\n",
    "  ) %>%\n",
    "  animation_opts(frame = 50, redraw = TRUE)\n",
    "\n",
    "p"
   ]
  },
  {
   "cell_type": "code",
   "execution_count": null,
   "id": "cd15af89",
   "metadata": {},
   "outputs": [],
   "source": [
    "# Create cumulative data for each frame\n",
    "data_list <- lapply(1:n, function(i) data[1:i, ])\n",
    "\n",
    "# Combine data into a single dataframe with a frame column\n",
    "cumulative_data <- do.call(rbind, lapply(1:n, function(i) {\n",
    "  cbind(data_list[[i]], frame = i)\n",
    "}))\n",
    "\n",
    "# Create an animated 3D plot\n",
    "p <- plot_ly(cumulative_data, \n",
    "             x = as.formula(paste0(\"~`\", x_col, \"`\")), \n",
    "             y = as.formula(paste0(\"~`\", y_col, \"`\")), \n",
    "             z = as.formula(paste0(\"~`\", z_col, \"`\")), \n",
    "             frame = ~frame, \n",
    "             type = 'scatter3d', mode = 'markers',\n",
    "             marker = list(size = 5, color = as.formula(paste0(\"~`\", time_col, \"`\")), colorscale = 'Viridis', showscale = FALSE)) %>%\n",
    "  layout(\n",
    "    scene = list(\n",
    "      xaxis = list(title = 'X', range = range(data[[x_col]])),\n",
    "      yaxis = list(title = 'Y', range = range(data[[y_col]])),\n",
    "      zaxis = list(title = 'Z', range = range(data[[z_col]]))\n",
    "    )\n",
    "  ) %>%\n",
    "  animation_opts(frame = 50, redraw = TRUE)\n",
    "\n",
    "p"
   ]
  }
 ],
 "metadata": {
  "kernelspec": {
   "display_name": "R",
   "language": "R",
   "name": "ir"
  },
  "language_info": {
   "codemirror_mode": "r",
   "file_extension": ".r",
   "mimetype": "text/x-r-source",
   "name": "R",
   "pygments_lexer": "r",
   "version": "4.3.2"
  }
 },
 "nbformat": 4,
 "nbformat_minor": 5
}
