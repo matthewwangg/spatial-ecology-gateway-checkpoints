{
 "cells": [
  {
   "cell_type": "code",
   "execution_count": null,
   "id": "04e4a60e",
   "metadata": {},
   "outputs": [],
   "source": [
    "library(plotly)\n",
    "library(ggplot2)\n",
    "library(gganimate)\n",
    "library(tidyverse)"
   ]
  },
  {
   "cell_type": "code",
   "execution_count": null,
   "id": "693f5a45",
   "metadata": {},
   "outputs": [],
   "source": [
    "n <- 100\n",
    "time <- rep(seq(1, 10, by=1), each=n)\n",
    "x <- rnorm(n*10)\n",
    "y <- rnorm(n*10)\n",
    "z <- rnorm(n*10)\n",
    "data <- data.frame(x=x, y=y, z=z, time=time)"
   ]
  },
  {
   "cell_type": "code",
   "execution_count": null,
   "id": "32bf825d",
   "metadata": {},
   "outputs": [],
   "source": [
    "p <- plot_ly(data, x = ~x, y = ~y, z = ~z, color = ~time, colors = colorRamp(c(\"red\", \"blue\")), \n",
    "             marker = list(size = 3)) %>%\n",
    "  add_markers() %>%\n",
    "  layout(scene = list(xaxis = list(title = 'X'),\n",
    "                      yaxis = list(title = 'Y'),\n",
    "                      zaxis = list(title = 'Z')))\n",
    "\n",
    "p\n"
   ]
  },
  {
   "cell_type": "code",
   "execution_count": null,
   "id": "a366d1ac",
   "metadata": {},
   "outputs": [],
   "source": [
    "# Creating a 2D scatter plot and then adding a third dimension with gganimate\n",
    "p <- ggplot(data, aes(x = x, y = y, color = z, frame = time)) +\n",
    "  geom_point() +\n",
    "  scale_color_gradient(low = \"blue\", high = \"red\") +\n",
    "  theme_minimal()\n",
    "\n",
    "animation <- p + transition_time(time) + labs(title = 'Time: {frame_time}')\n",
    "\n",
    "animate(animation, renderer = gifski_renderer(), nframes = 100)"
   ]
  },
  {
   "cell_type": "code",
   "execution_count": null,
   "id": "598ac453",
   "metadata": {},
   "outputs": [],
   "source": [
    "# Create an animated 3D plot\n",
    "p <- plot_ly(data, x = ~x, y = ~y, z = ~z, frame = ~time, type = 'scatter3d', mode = 'markers',\n",
    "             marker = list(size = 3, color = ~time, colorscale = 'Viridis', showscale = TRUE)) %>%\n",
    "  layout(scene = list(xaxis = list(title = 'X'),\n",
    "                      yaxis = list(title = 'Y'),\n",
    "                      zaxis = list(title = 'Z')))\n",
    "\n",
    "p"
   ]
  },
  {
   "cell_type": "code",
   "execution_count": null,
   "id": "3dd90e60",
   "metadata": {},
   "outputs": [],
   "source": [
    "n <- 10\n",
    "time <- seq(1, n)\n",
    "x <- rnorm(n)\n",
    "y <- rnorm(n)\n",
    "z <- rnorm(n)\n",
    "data <- data.frame(x=x, y=y, z=z, time=time)\n",
    "\n",
    "x_range <- range(data$x)\n",
    "y_range <- range(data$y)\n",
    "z_range <- range(data$z)"
   ]
  },
  {
   "cell_type": "code",
   "execution_count": null,
   "id": "e2a02b2a",
   "metadata": {},
   "outputs": [],
   "source": [
    "# Create an animated 3D plot\n",
    "p <- plot_ly(data, x = ~x, y = ~y, z = ~z, frame = ~time, type = 'scatter3d', mode = 'markers',\n",
    "             marker = list(size = 5, color = ~time, colorscale = 'Viridis', showscale = TRUE)) %>%\n",
    "  layout(scene = list(\n",
    "    xaxis = list(title = 'X', range = x_range),\n",
    "    yaxis = list(title = 'Y', range = y_range),\n",
    "    zaxis = list(title = 'Z', range = z_range)\n",
    "  ))\n",
    "\n",
    "p"
   ]
  },
  {
   "cell_type": "code",
   "execution_count": null,
   "id": "d76654e6",
   "metadata": {},
   "outputs": [],
   "source": [
    "n <- 50  \n",
    "time <- seq(1, n)\n",
    "x <- rnorm(n)\n",
    "y <- rnorm(n)\n",
    "z <- rnorm(n)\n",
    "data <- data.frame(x=x, y=y, z=z, time=time)"
   ]
  },
  {
   "cell_type": "code",
   "execution_count": null,
   "id": "1b1f8ee5",
   "metadata": {},
   "outputs": [],
   "source": [
    "# Create an animated 3D plot\n",
    "p <- plot_ly(data, x = ~x, y = ~y, z = ~z, frame = ~time, type = 'scatter3d', mode = 'markers',\n",
    "             marker = list(size = 5, color = ~time, colorscale = 'Viridis', showscale = FALSE)) %>%\n",
    "  layout(\n",
    "    scene = list(\n",
    "      xaxis = list(title = 'X', range = range(data$x)),\n",
    "      yaxis = list(title = 'Y', range = range(data$y)),\n",
    "      zaxis = list(title = 'Z', range = range(data$z))\n",
    "    )\n",
    "  ) %>%\n",
    "  animation_opts(frame = 50, redraw = TRUE)\n",
    "\n",
    "p"
   ]
  }
 ],
 "metadata": {
  "kernelspec": {
   "display_name": "R",
   "language": "R",
   "name": "ir"
  },
  "language_info": {
   "codemirror_mode": "r",
   "file_extension": ".r",
   "mimetype": "text/x-r-source",
   "name": "R",
   "pygments_lexer": "r",
   "version": "4.3.2"
  }
 },
 "nbformat": 4,
 "nbformat_minor": 5
}
