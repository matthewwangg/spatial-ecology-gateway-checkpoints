{
 "cells": [
  {
   "cell_type": "code",
   "execution_count": null,
   "id": "56257b3c",
   "metadata": {},
   "outputs": [],
   "source": [
    "# Load required libraries\n",
    "library(ggplot2)\n",
    "library(gganimate)"
   ]
  },
  {
   "cell_type": "code",
   "execution_count": null,
   "id": "68d31768",
   "metadata": {},
   "outputs": [],
   "source": [
    "# Load the environment variable\n",
    "dataset_csv <- Sys.getenv(\"DATASET_CSV_4\")\n",
    "\n",
    "# Read the data from the CSV file\n",
    "data <- read.csv(dataset_csv)\n",
    "\n",
    "# Convert the \"Time\" column to POSIXct format\n",
    "data$Time <- as.POSIXct(strptime(data$Time, format = \"%Y-%m-%d %H:%M:%S\"))"
   ]
  },
  {
   "cell_type": "code",
   "execution_count": null,
   "id": "50741fbc",
   "metadata": {},
   "outputs": [],
   "source": [
    "create_2d_animation <- function(data, output_filename) {\n",
    "  \n",
    "  # Create the plot with 2D animation using color gradient for height\n",
    "  p <- ggplot(data, aes(x = Latitude, y = Longitude, color = factor(ID), frame = Time)) +\n",
    "    geom_point(size = 5) +\n",
    "    geom_path() +\n",
    "    scale_color_viridis_c() +\n",
    "    labs(title = \"2D Animation\",\n",
    "         x = \"Longitude\",\n",
    "         y = \"Latitude\",\n",
    "         color = \"ID\") +\n",
    "    theme_minimal() +\n",
    "    transition_time(Time) +\n",
    "    ease_aes('linear')\n",
    "  \n",
    "  # Save the animation as a GIF\n",
    "  animate(p, duration = 10, fps = 48, width = 800, height = 600, renderer = gifski_renderer(output_filename))\n",
    "}"
   ]
  },
  {
   "cell_type": "code",
   "execution_count": null,
   "id": "6b16df39",
   "metadata": {},
   "outputs": [],
   "source": [
    "create_2d_animation(data, \"output_animation.gif\")"
   ]
  }
 ],
 "metadata": {
  "kernelspec": {
   "display_name": "R",
   "language": "R",
   "name": "ir"
  },
  "language_info": {
   "codemirror_mode": "r",
   "file_extension": ".r",
   "mimetype": "text/x-r-source",
   "name": "R",
   "pygments_lexer": "r",
   "version": "4.3.2"
  }
 },
 "nbformat": 4,
 "nbformat_minor": 5
}
