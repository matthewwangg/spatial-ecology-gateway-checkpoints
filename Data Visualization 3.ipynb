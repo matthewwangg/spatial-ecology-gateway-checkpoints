{
 "cells": [
  {
   "cell_type": "code",
   "execution_count": null,
   "id": "dee8ad50",
   "metadata": {},
   "outputs": [],
   "source": [
    "# Load necessary libraries\n",
    "library(plotly)\n",
    "library(ggplot2)\n",
    "library(viridis) \n",
    "library(gganimate)"
   ]
  },
  {
   "cell_type": "code",
   "execution_count": null,
   "id": "09a7160e",
   "metadata": {},
   "outputs": [],
   "source": [
    "secure_filename <- Sys.getenv(\"DATASET_CSV_1\")"
   ]
  },
  {
   "cell_type": "code",
   "execution_count": null,
   "id": "297052e6",
   "metadata": {},
   "outputs": [],
   "source": [
    "# Read data from the CSV file\n",
    "data <- read.csv(secure_filename)\n",
    "\n",
    "data$timestamp <- as.POSIXct(data$timestamp, format = \"%Y-%m-%d %H:%M:%S\")\n",
    "\n",
    "# Create the plot without animation\n",
    "plot1 <- ggplot(data, aes(x = `location.long`, y = `location.lat`, color = `height.above.msl`)) +\n",
    "  geom_point(size = 2, alpha = 0.6) +\n",
    "  scale_color_viridis_c() +\n",
    "  labs(title = 'Scatter Plot', x = 'Longitude', y = 'Latitude', color = 'Height (msl)') +\n",
    "  theme_minimal()\n",
    "\n",
    "\n",
    "plot1\n"
   ]
  },
  {
   "cell_type": "code",
   "execution_count": null,
   "id": "05672172",
   "metadata": {},
   "outputs": [],
   "source": [
    "# Read data from the CSV file\n",
    "data <- read.csv(secure_filename)\n",
    "\n",
    "data$timestamp <- as.POSIXct(data$timestamp, format = \"%Y-%m-%d %H:%M:%S\")\n",
    "\n",
    "# Create 3D scatter plot\n",
    "plot2 <- plot_ly(data, x = ~`location.long`, y = ~`location.lat`, z = ~`height.above.msl`, color = ~`height.above.msl`,\n",
    "        type = \"scatter3d\", mode = \"markers\") %>%\n",
    "  layout(scene = list(xaxis = list(title = 'Longitude'),\n",
    "                      yaxis = list(title = 'Latitude'),\n",
    "                      zaxis = list(title = 'Height above MSL')))\n",
    "\n",
    "plot2\n"
   ]
  },
  {
   "cell_type": "code",
   "execution_count": null,
   "id": "af317c7e",
   "metadata": {},
   "outputs": [],
   "source": [
    "# Read data from the CSV file\n",
    "data <- read.csv(secure_filename)\n",
    "\n",
    "data$timestamp <- as.POSIXct(data$timestamp, format = \"%Y-%m-%d %H:%M:%S\")\n",
    "\n",
    "# Create an animated 3D scatter plot\n",
    "plot3 <- plot_ly(data, x = ~`location.long`, y = ~`location.lat`, z = ~`height.above.msl`, \n",
    "             frame = ~timestamp, color = ~`height.above.msl`, \n",
    "             type = \"scatter3d\", mode = \"markers\") %>%\n",
    "     layout(scene = list(xaxis = list(title = 'Longitude'),\n",
    "                         yaxis = list(title = 'Latitude'),\n",
    "                         zaxis = list(title = 'Height above MSL')),\n",
    "            title = \"3D Scatter Plot Animation\")\n",
    "\n",
    "# Show the plot\n",
    "plot3\n"
   ]
  },
  {
   "cell_type": "code",
   "execution_count": null,
   "id": "b3aedbd0",
   "metadata": {},
   "outputs": [],
   "source": []
  }
 ],
 "metadata": {
  "kernelspec": {
   "display_name": "R",
   "language": "R",
   "name": "ir"
  },
  "language_info": {
   "codemirror_mode": "r",
   "file_extension": ".r",
   "mimetype": "text/x-r-source",
   "name": "R",
   "pygments_lexer": "r",
   "version": "4.3.2"
  }
 },
 "nbformat": 4,
 "nbformat_minor": 5
}
