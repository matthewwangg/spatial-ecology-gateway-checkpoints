{
 "cells": [
  {
   "cell_type": "code",
   "execution_count": null,
   "id": "dee8ad50",
   "metadata": {},
   "outputs": [],
   "source": [
    "# Load necessary libraries\n",
    "library(plotly)\n",
    "library(ggplot2)\n",
    "library(viridis) \n",
    "library(gganimate)"
   ]
  },
  {
   "cell_type": "code",
   "execution_count": null,
   "id": "09a7160e",
   "metadata": {},
   "outputs": [],
   "source": [
    "secure_filename <- Sys.getenv(\"DATASET_CSV_1\")"
   ]
  },
  {
   "cell_type": "code",
   "execution_count": null,
   "id": "297052e6",
   "metadata": {},
   "outputs": [],
   "source": [
    "# Read data from the CSV file\n",
    "data <- read.csv(secure_filename)\n",
    "\n",
    "data$timestamp <- as.POSIXct(data$timestamp, format = \"%Y-%m-%d %H:%M:%S\")\n",
    "\n",
    "# Create the plot without animation\n",
    "plot1 <- ggplot(data, aes(x = `location.long`, y = `location.lat`, color = `height.above.msl`)) +\n",
    "  geom_point(size = 2, alpha = 0.6) +\n",
    "  scale_color_viridis_c() +\n",
    "  labs(title = 'Scatter Plot', x = 'Longitude', y = 'Latitude', color = 'Height (msl)') +\n",
    "  theme_minimal()\n",
    "\n",
    "\n",
    "plot1\n"
   ]
  },
  {
   "cell_type": "code",
   "execution_count": null,
   "id": "05672172",
   "metadata": {},
   "outputs": [],
   "source": [
    "# Read data from the CSV file\n",
    "data <- read.csv(secure_filename)\n",
    "\n",
    "# Convert timestamp to POSIXct\n",
    "data$timestamp <- as.POSIXct(data$timestamp, format = \"%Y-%m-%d %H:%M:%S\")\n",
    "\n",
    "# Get unique IDs from the column `tag.local.identifier`\n",
    "unique_ids <- unique(data$`tag.local.identifier`)\n",
    "\n",
    "# Initialize an empty list to store plots\n",
    "plots <- list()\n",
    "\n",
    "# Iterate over each unique ID and create a plot\n",
    "for (id in unique_ids) {\n",
    "  subset_data <- subset(data, `tag.local.identifier` == id)\n",
    "  plot <- plot_ly(subset_data, x = ~`location.long`, y = ~`location.lat`, z = ~`height.above.msl`, color = ~`height.above.msl`,\n",
    "                  type = \"scatter3d\", mode = \"markers\") %>%\n",
    "    layout(scene = list(xaxis = list(title = 'Longitude'),\n",
    "                        yaxis = list(title = 'Latitude'),\n",
    "                        zaxis = list(title = 'Height above MSL')),\n",
    "           title = paste('3D Scatter Plot for ID:', id))\n",
    "  \n",
    "  plots[[as.character(id)]] <- plot\n",
    "}\n",
    "print(plots)\n",
    "# Display all plots sequentially in a single cell\n",
    "for (plot in plots) {\n",
    "  print(plot)\n",
    "}"
   ]
  },
  {
   "cell_type": "code",
   "execution_count": null,
   "id": "7cc927f5",
   "metadata": {},
   "outputs": [],
   "source": [
    "# Running this command and replacing the <tag.local.identifier> \n",
    "# with the correct information should display the plot\n",
    "\n",
    "# plots$<tag.local.identifier>"
   ]
  },
  {
   "cell_type": "code",
   "execution_count": null,
   "id": "af317c7e",
   "metadata": {},
   "outputs": [],
   "source": [
    "# Read data from the CSV file\n",
    "data <- read.csv(secure_filename)\n",
    "\n",
    "data$timestamp <- as.POSIXct(data$timestamp, format = \"%Y-%m-%d %H:%M:%S\")\n",
    "\n",
    "# Create an animated 3D scatter plot\n",
    "plot3 <- plot_ly(data, x = ~`location.long`, y = ~`location.lat`, z = ~`height.above.msl`, \n",
    "             frame = ~timestamp, color = ~`height.above.msl`, \n",
    "             type = \"scatter3d\", mode = \"markers\") %>%\n",
    "     layout(scene = list(xaxis = list(title = 'Longitude'),\n",
    "                         yaxis = list(title = 'Latitude'),\n",
    "                         zaxis = list(title = 'Height above MSL')),\n",
    "            title = \"3D Scatter Plot Animation\")\n",
    "\n",
    "# Show the plot\n",
    "plot3\n"
   ]
  },
  {
   "cell_type": "code",
   "execution_count": null,
   "id": "b3aedbd0",
   "metadata": {},
   "outputs": [],
   "source": [
    "data <- read.csv(secure_filename)\n",
    "\n",
    "# Convert timestamp to POSIXct\n",
    "data$timestamp <- as.POSIXct(data$timestamp, format = \"%Y-%m-%d %H:%M:%S\")\n",
    "\n",
    "# Get unique IDs\n",
    "unique_ids <- unique(data$tag-local-identifier)  # Replace `id` with your actual ID column name\n",
    "\n",
    "# Initialize an empty list to store plots\n",
    "plots <- list()\n",
    "\n",
    "# Iterate over each unique ID and create a plot\n",
    "for (id in unique_ids) {\n",
    "  subset_data <- subset(data, id == data$id)\n",
    "  plot <- plot_ly(subset_data, x = ~`location.long`, y = ~`location.lat`, z = ~`height.above.msl`, color = ~`height.above.msl`,\n",
    "                  type = \"scatter3d\", mode = \"markers\") %>%\n",
    "    layout(scene = list(xaxis = list(title = 'Longitude'),\n",
    "                        yaxis = list(title = 'Latitude'),\n",
    "                        zaxis = list(title = 'Height above MSL')),\n",
    "           title = paste('3D Scatter Plot for ID:', id))\n",
    "  \n",
    "  plots[[as.character(id)]] <- plot\n",
    "}\n",
    "\n",
    "# Display the plots\n",
    "plots[[1]] # Display the first plot as an example\n",
    "\n",
    "# Optionally, to display all plots one by one\n",
    "for (plot in plots) {\n",
    "  print(plot)\n",
    "}\n"
   ]
  },
  {
   "cell_type": "code",
   "execution_count": null,
   "id": "80fae76f",
   "metadata": {},
   "outputs": [],
   "source": []
  }
 ],
 "metadata": {
  "kernelspec": {
   "display_name": "R",
   "language": "R",
   "name": "ir"
  },
  "language_info": {
   "codemirror_mode": "r",
   "file_extension": ".r",
   "mimetype": "text/x-r-source",
   "name": "R",
   "pygments_lexer": "r",
   "version": "4.3.2"
  }
 },
 "nbformat": 4,
 "nbformat_minor": 5
}
