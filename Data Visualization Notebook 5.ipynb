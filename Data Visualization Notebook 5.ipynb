{
 "cells": [
  {
   "cell_type": "code",
   "execution_count": null,
   "id": "96dae320",
   "metadata": {
    "scrolled": false
   },
   "outputs": [],
   "source": [
    "# Load required libraries\n",
    "library(ggplot2)\n",
    "library(gganimate)\n",
    "library(dplyr)\n",
    "library(readr)"
   ]
  },
  {
   "cell_type": "code",
   "execution_count": null,
   "id": "a9ca3d38",
   "metadata": {},
   "outputs": [],
   "source": [
    "secure_filename <- Sys.getenv(\"DATASET_CSV_3\")"
   ]
  },
  {
   "cell_type": "code",
   "execution_count": null,
   "id": "a8cc5349",
   "metadata": {},
   "outputs": [],
   "source": [
    "# Read the CSV file\n",
    "data <- read_csv(secure_filename)\n",
    "\n",
    "# Get unique identifiers\n",
    "identifiers <- unique(data$`tag-local-identifier`)\n",
    "\n",
    "# Ensure there are exactly two identifiers\n",
    "if (length(identifiers) != 2) {\n",
    "    stop(\"There should be exactly two unique values in 'tag.local.identifier'.\")\n",
    "}\n"
   ]
  },
  {
   "cell_type": "code",
   "execution_count": null,
   "id": "ae89c359",
   "metadata": {},
   "outputs": [],
   "source": [
    "create_pseudo_3d_animation <- function(data, identifier, output_filename) {\n",
    "  # Filter the data for the specific identifier\n",
    "  data_filtered <- data %>% filter(`tag-local-identifier` == identifier)\n",
    "  \n",
    "  # Create the plot with pseudo-3D effect using color gradient for height\n",
    "  p <- ggplot(data_filtered, aes(x = `location-long`, y = `location-lat`, color = `height-raw`, frame = as.POSIXct(timestamp))) +\n",
    "    geom_point(size = 5) +\n",
    "    geom_path(aes(group = 1)) +\n",
    "    scale_color_viridis_c() +\n",
    "    labs(title = paste(\"Pseudo-3D Animation for\", identifier),\n",
    "         x = \"Longitude\",\n",
    "         y = \"Latitude\",\n",
    "         color = \"Height\") +\n",
    "    theme_minimal()\n",
    "  \n",
    "  # Create the animation\n",
    "  animation <- p + \n",
    "    transition_time(as.POSIXct(timestamp)) +\n",
    "    ease_aes('linear') +\n",
    "    shadow_mark(past=TRUE, size=2, alpha=0.5)\n",
    "  \n",
    "  # Save the animation as a GIF\n",
    "  animate(animation, duration = 20, fps = 48, width = 800, height = 600, renderer = gifski_renderer(output_filename))\n",
    "}\n",
    "\n",
    "# Create pseudo-3D animations for each identifier\n",
    "create_pseudo_3d_animation(data, identifiers[1], \"animation_3.1.gif\")\n",
    "create_pseudo_3d_animation(data, identifiers[2], \"animation_3.2.gif\")"
   ]
  }
 ],
 "metadata": {
  "kernelspec": {
   "display_name": "R",
   "language": "R",
   "name": "ir"
  },
  "language_info": {
   "codemirror_mode": "r",
   "file_extension": ".r",
   "mimetype": "text/x-r-source",
   "name": "R",
   "pygments_lexer": "r",
   "version": "4.3.2"
  }
 },
 "nbformat": 4,
 "nbformat_minor": 5
}
